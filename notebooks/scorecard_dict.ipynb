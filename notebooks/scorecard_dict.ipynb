{
 "cells": [
  {
   "cell_type": "markdown",
   "metadata": {},
   "source": [
    "### College Scorecard Data Dictionary Parsing"
   ]
  },
  {
   "cell_type": "code",
   "execution_count": 3,
   "metadata": {},
   "outputs": [],
   "source": [
    "import pandas as pd\n",
    "from pathlib import Path"
   ]
  },
  {
   "cell_type": "markdown",
   "metadata": {},
   "source": [
    "#### Load Data Dictionary Excel File"
   ]
  },
  {
   "cell_type": "code",
   "execution_count": 4,
   "metadata": {},
   "outputs": [
    {
     "name": "stdout",
     "output_type": "stream",
     "text": [
      "Available sheets: ['README', 'ChangeLog', 'Glossary', 'Institution_Data_Dictionary', 'Institution_Cohort_Map', 'Most_Recent_Inst_Cohort_Map', 'FieldOfStudy_Data_Dictionary', 'FieldOfStudy_Cohort_Map']\n"
     ]
    }
   ],
   "source": [
    "dict_path = Path(\"../data/raw/CollegeScorecardDataDictionary.xlsx\")\n",
    "xls = pd.ExcelFile(dict_path)\n",
    "print(\"Available sheets:\", xls.sheet_names)"
   ]
  },
  {
   "cell_type": "markdown",
   "metadata": {},
   "source": [
    "#### Load Institution_Data_Dictionary sheet"
   ]
  },
  {
   "cell_type": "code",
   "execution_count": 32,
   "metadata": {},
   "outputs": [
    {
     "data": {
      "text/html": [
       "<div>\n",
       "<style scoped>\n",
       "    .dataframe tbody tr th:only-of-type {\n",
       "        vertical-align: middle;\n",
       "    }\n",
       "\n",
       "    .dataframe tbody tr th {\n",
       "        vertical-align: top;\n",
       "    }\n",
       "\n",
       "    .dataframe thead th {\n",
       "        text-align: right;\n",
       "    }\n",
       "</style>\n",
       "<table border=\"1\" class=\"dataframe\">\n",
       "  <thead>\n",
       "    <tr style=\"text-align: right;\">\n",
       "      <th></th>\n",
       "      <th>NAME OF DATA ELEMENT</th>\n",
       "      <th>dev-category</th>\n",
       "      <th>developer-friendly name</th>\n",
       "      <th>API data type</th>\n",
       "      <th>INDEX</th>\n",
       "      <th>VARIABLE NAME</th>\n",
       "      <th>VALUE</th>\n",
       "      <th>LABEL</th>\n",
       "      <th>SOURCE</th>\n",
       "      <th>SHOWN/USE ON SITE</th>\n",
       "      <th>NOTES</th>\n",
       "    </tr>\n",
       "  </thead>\n",
       "  <tbody>\n",
       "    <tr>\n",
       "      <th>0</th>\n",
       "      <td>Unit ID for institution</td>\n",
       "      <td>root</td>\n",
       "      <td>id</td>\n",
       "      <td>integer</td>\n",
       "      <td>NaN</td>\n",
       "      <td>UNITID</td>\n",
       "      <td>NaN</td>\n",
       "      <td>NaN</td>\n",
       "      <td>IPEDS</td>\n",
       "      <td>Yes</td>\n",
       "      <td>NaN</td>\n",
       "    </tr>\n",
       "    <tr>\n",
       "      <th>1</th>\n",
       "      <td>8-digit OPE ID for institution</td>\n",
       "      <td>root</td>\n",
       "      <td>ope8_id</td>\n",
       "      <td>string</td>\n",
       "      <td>varchar(10)</td>\n",
       "      <td>OPEID</td>\n",
       "      <td>NaN</td>\n",
       "      <td>NaN</td>\n",
       "      <td>IPEDS</td>\n",
       "      <td>Yes</td>\n",
       "      <td>NaN</td>\n",
       "    </tr>\n",
       "    <tr>\n",
       "      <th>2</th>\n",
       "      <td>6-digit OPE ID for institution</td>\n",
       "      <td>root</td>\n",
       "      <td>ope6_id</td>\n",
       "      <td>string</td>\n",
       "      <td>varchar(10)</td>\n",
       "      <td>OPEID6</td>\n",
       "      <td>NaN</td>\n",
       "      <td>NaN</td>\n",
       "      <td>IPEDS</td>\n",
       "      <td>Yes</td>\n",
       "      <td>NaN</td>\n",
       "    </tr>\n",
       "    <tr>\n",
       "      <th>3</th>\n",
       "      <td>Institution name</td>\n",
       "      <td>school</td>\n",
       "      <td>name</td>\n",
       "      <td>autocomplete</td>\n",
       "      <td>fulltext</td>\n",
       "      <td>INSTNM</td>\n",
       "      <td>NaN</td>\n",
       "      <td>NaN</td>\n",
       "      <td>IPEDS</td>\n",
       "      <td>Yes</td>\n",
       "      <td>NaN</td>\n",
       "    </tr>\n",
       "    <tr>\n",
       "      <th>4</th>\n",
       "      <td>City</td>\n",
       "      <td>school</td>\n",
       "      <td>city</td>\n",
       "      <td>autocomplete</td>\n",
       "      <td>varchar(200)</td>\n",
       "      <td>CITY</td>\n",
       "      <td>NaN</td>\n",
       "      <td>NaN</td>\n",
       "      <td>IPEDS</td>\n",
       "      <td>Yes</td>\n",
       "      <td>NaN</td>\n",
       "    </tr>\n",
       "  </tbody>\n",
       "</table>\n",
       "</div>"
      ],
      "text/plain": [
       "             NAME OF DATA ELEMENT dev-category developer-friendly name  \\\n",
       "0         Unit ID for institution         root                      id   \n",
       "1  8-digit OPE ID for institution         root                 ope8_id   \n",
       "2  6-digit OPE ID for institution         root                 ope6_id   \n",
       "3                Institution name       school                    name   \n",
       "4                            City       school                    city   \n",
       "\n",
       "  API data type         INDEX VARIABLE NAME VALUE LABEL SOURCE  \\\n",
       "0       integer           NaN        UNITID   NaN   NaN  IPEDS   \n",
       "1        string   varchar(10)         OPEID   NaN   NaN  IPEDS   \n",
       "2        string   varchar(10)        OPEID6   NaN   NaN  IPEDS   \n",
       "3  autocomplete      fulltext        INSTNM   NaN   NaN  IPEDS   \n",
       "4  autocomplete  varchar(200)          CITY   NaN   NaN  IPEDS   \n",
       "\n",
       "  SHOWN/USE ON SITE NOTES  \n",
       "0               Yes   NaN  \n",
       "1               Yes   NaN  \n",
       "2               Yes   NaN  \n",
       "3               Yes   NaN  \n",
       "4               Yes   NaN  "
      ]
     },
     "execution_count": 32,
     "metadata": {},
     "output_type": "execute_result"
    }
   ],
   "source": [
    "sheet_name = \"Institution_Data_Dictionary\"\n",
    "\n",
    "inst_dict = pd.read_excel(dict_path, sheet_name=sheet_name)\n",
    "inst_dict.head()"
   ]
  },
  {
   "cell_type": "markdown",
   "metadata": {},
   "source": [
    "#### Extract and save all unique values in the first column"
   ]
  },
  {
   "cell_type": "code",
   "execution_count": 27,
   "metadata": {},
   "outputs": [
    {
     "name": "stdout",
     "output_type": "stream",
     "text": [
      "Wrote 3567 entries to ..\\data\\processed\\dict_elements.txt\n"
     ]
    }
   ],
   "source": [
    "var_names = inst_dict[\"VARIABLE NAME\"].fillna(\"\").astype(str)\n",
    "descriptions = inst_dict.iloc[:, 0].fillna(\"\").astype(str)\n",
    "\n",
    "dict_output_path = Path(\"../data/processed/dict_elements.txt\")\n",
    "\n",
    "with open(dict_output_path, \"w\", encoding=\"utf-8\") as f:\n",
    "    for var, desc in zip(var_names, descriptions):\n",
    "        if var.strip():\n",
    "            f.write(f\"{var}: {desc}\\n\")\n",
    "\n",
    "print(f\"Wrote {len(var_names)} entries to {dict_output_path}\")"
   ]
  },
  {
   "cell_type": "markdown",
   "metadata": {},
   "source": [
    "### Extract Name of Data Element0 & Variable Name Columns"
   ]
  },
  {
   "cell_type": "code",
   "execution_count": 38,
   "metadata": {},
   "outputs": [
    {
     "name": "stdout",
     "output_type": "stream",
     "text": [
      "             NAME OF DATA ELEMENT VARIABLE NAME\n",
      "0         Unit ID for institution        UNITID\n",
      "1  8-digit OPE ID for institution         OPEID\n",
      "2  6-digit OPE ID for institution        OPEID6\n",
      "3                Institution name        INSTNM\n",
      "4                            City          CITY\n"
     ]
    }
   ],
   "source": [
    "scorecard_dict = inst_dict.iloc[:, [0, 5]]\n",
    "scorecard_dict = scorecard_dict.dropna()\n",
    "print(scorecard_dict.head())"
   ]
  },
  {
   "cell_type": "markdown",
   "metadata": {},
   "source": [
    "### Save the data"
   ]
  },
  {
   "cell_type": "code",
   "execution_count": 39,
   "metadata": {},
   "outputs": [
    {
     "name": "stdout",
     "output_type": "stream",
     "text": [
      "Saved merged dataset to ..\\data\\processed\\scorecard_dict.csv\n"
     ]
    }
   ],
   "source": [
    "output_path = Path(\"../data/processed/scorecard_dict.csv\")\n",
    "scorecard_dict.to_csv(output_path, index=False)\n",
    "print(f\"Saved merged dataset to {output_path}\")"
   ]
  }
 ],
 "metadata": {
  "kernelspec": {
   "display_name": "Python 3",
   "language": "python",
   "name": "python3"
  },
  "language_info": {
   "codemirror_mode": {
    "name": "ipython",
    "version": 3
   },
   "file_extension": ".py",
   "mimetype": "text/x-python",
   "name": "python",
   "nbconvert_exporter": "python",
   "pygments_lexer": "ipython3",
   "version": "3.13.2"
  }
 },
 "nbformat": 4,
 "nbformat_minor": 2
}

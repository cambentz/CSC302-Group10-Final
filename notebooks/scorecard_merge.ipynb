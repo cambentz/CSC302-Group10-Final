{
 "cells": [
  {
   "cell_type": "markdown",
   "metadata": {},
   "source": [
    "## College Scorecard Merge\n",
    "This notebook merges all `MERGED*.csv` files from the Scorecard dataset.\n",
    "\n",
    "It also writes a summary file with each file's shape and columns."
   ]
  },
  {
   "cell_type": "code",
   "execution_count": 13,
   "metadata": {},
   "outputs": [],
   "source": [
    "import pandas as pd\n",
    "from pathlib import Path"
   ]
  },
  {
   "cell_type": "markdown",
   "metadata": {},
   "source": [
    "#### Define file paths"
   ]
  },
  {
   "cell_type": "code",
   "execution_count": 14,
   "metadata": {},
   "outputs": [],
   "source": [
    "data_dir = Path(\"../data/raw\")\n",
    "scorecard_files = sorted(data_dir.glob(\"MERGED20*_PP.csv\"))\n",
    "summary_file = Path(\"../data/processed/scorecard_summaries.txt\")"
   ]
  },
  {
   "cell_type": "markdown",
   "metadata": {},
   "source": [
    "#### Summarize each file"
   ]
  },
  {
   "cell_type": "code",
   "execution_count": 15,
   "metadata": {},
   "outputs": [
    {
     "name": "stdout",
     "output_type": "stream",
     "text": [
      "Wrote summary for 23 files to ..\\data\\processed\\scorecard_summaries.txt\n"
     ]
    }
   ],
   "source": [
    "with open(summary_file, \"w\", encoding=\"utf-8\") as out:\n",
    "    for file in scorecard_files:\n",
    "        try:\n",
    "            df = pd.read_csv(file, low_memory=False)\n",
    "            out.write(f\"{file.name}\\n\")\n",
    "            out.write(f\"Shape: {df.shape}\\n\")\n",
    "            out.write(f\"Columns: {list(df.columns)}\\n\")\n",
    "            out.write(\"-\"*80 + \"\\n\")\n",
    "        except Exception as e:\n",
    "            out.write(f\"Failed to read {file.name}: {e}\\n\")\n",
    "\n",
    "print(f\"Wrote summary for {len(scorecard_files)} files to {summary_file}\")"
   ]
  },
  {
   "cell_type": "markdown",
   "metadata": {},
   "source": [
    "#### Merge all files"
   ]
  },
  {
   "cell_type": "code",
   "execution_count": 16,
   "metadata": {},
   "outputs": [
    {
     "name": "stdout",
     "output_type": "stream",
     "text": [
      "Merged shape: (162482, 3306)\n"
     ]
    }
   ],
   "source": [
    "### Merge all files\n",
    "\n",
    "merged_scorecard = pd.DataFrame()\n",
    "for file in scorecard_files:\n",
    "    try:\n",
    "        df = pd.read_csv(file, low_memory=False)\n",
    "        year = file.stem.replace(\"MERGED\", \"\").replace(\"_PP\", \"\")\n",
    "        df[\"Year\"] = year\n",
    "        merged_scorecard = pd.concat([merged_scorecard, df], ignore_index=True)\n",
    "    except Exception as e:\n",
    "        print(f\"Failed to merge {file.name}: {e}\")\n",
    "\n",
    "if \"UNITID\" in merged_scorecard.columns:\n",
    "    merged_scorecard = merged_scorecard.sort_values(\"UNITID\").reset_index(drop=True)\n",
    "\n",
    "print(f\"Merged shape: {merged_scorecard.shape}\")"
   ]
  },
  {
   "cell_type": "markdown",
   "metadata": {},
   "source": [
    "#### Save result"
   ]
  },
  {
   "cell_type": "code",
   "execution_count": 18,
   "metadata": {},
   "outputs": [
    {
     "name": "stdout",
     "output_type": "stream",
     "text": [
      "Saved merged dataset to ..\\data\\processed\\merged_scorecard.csv\n"
     ]
    }
   ],
   "source": [
    "output_path = Path(\"../data/processed/merged_scorecard.csv\")\n",
    "merged_scorecard.to_csv(output_path, index=False)\n",
    "print(f\"Saved merged dataset to {output_path}\")"
   ]
  }
 ],
 "metadata": {
  "kernelspec": {
   "display_name": "Python 3",
   "language": "python",
   "name": "python3"
  },
  "language_info": {
   "codemirror_mode": {
    "name": "ipython",
    "version": 3
   },
   "file_extension": ".py",
   "mimetype": "text/x-python",
   "name": "python",
   "nbconvert_exporter": "python",
   "pygments_lexer": "ipython3",
   "version": "3.13.2"
  }
 },
 "nbformat": 4,
 "nbformat_minor": 2
}

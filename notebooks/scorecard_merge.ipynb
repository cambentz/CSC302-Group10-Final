{
 "cells": [
  {
   "cell_type": "code",
   "execution_count": 1,
   "metadata": {},
   "outputs": [],
   "source": [
    "import pandas as pd\n",
    "from pathlib import Path"
   ]
  },
  {
   "cell_type": "code",
   "execution_count": 5,
   "metadata": {},
   "outputs": [],
   "source": [
    "# Define path to Scorecard data\n",
    "scorecard_dir = Path(\"../data/raw\")\n",
    "merged_files = sorted(scorecard_dir.glob(\"MERGED20*_PP.csv\"))"
   ]
  },
  {
   "cell_type": "code",
   "execution_count": 6,
   "metadata": {},
   "outputs": [
    {
     "name": "stdout",
     "output_type": "stream",
     "text": [
      "Found MERGED files:\n",
      " - MERGED2000_01_PP.csv\n",
      " - MERGED2001_02_PP.csv\n",
      " - MERGED2002_03_PP.csv\n",
      " - MERGED2003_04_PP.csv\n",
      " - MERGED2004_05_PP.csv\n",
      " - MERGED2005_06_PP.csv\n",
      " - MERGED2006_07_PP.csv\n",
      " - MERGED2007_08_PP.csv\n",
      " - MERGED2008_09_PP.csv\n",
      " - MERGED2009_10_PP.csv\n",
      " - MERGED2010_11_PP.csv\n",
      " - MERGED2011_12_PP.csv\n",
      " - MERGED2012_13_PP.csv\n",
      " - MERGED2013_14_PP.csv\n",
      " - MERGED2014_15_PP.csv\n",
      " - MERGED2015_16_PP.csv\n",
      " - MERGED2016_17_PP.csv\n",
      " - MERGED2017_18_PP.csv\n",
      " - MERGED2018_19_PP.csv\n",
      " - MERGED2019_20_PP.csv\n",
      " - MERGED2020_21_PP.csv\n",
      " - MERGED2021_22_PP.csv\n",
      " - MERGED2022_23_PP.csv\n"
     ]
    }
   ],
   "source": [
    "# Display files detected\n",
    "print(\"Found MERGED files:\")\n",
    "for f in merged_files:\n",
    "    print(\" -\", f.name)"
   ]
  },
  {
   "cell_type": "code",
   "execution_count": 7,
   "metadata": {},
   "outputs": [],
   "source": [
    "# Dictionary to hold all crosswalk dataframes\n",
    "scorecard_data = {}"
   ]
  },
  {
   "cell_type": "code",
   "execution_count": 9,
   "metadata": {},
   "outputs": [
    {
     "name": "stdout",
     "output_type": "stream",
     "text": [
      "Scorecard summaries written to: ..\\data\\processed\\scorecard_summaries.txt\n"
     ]
    }
   ],
   "source": [
    "# Output summary of each file to a text file\n",
    "output_file = Path(\"../data/processed/scorecard_summaries.txt\")\n",
    "with open(output_file, \"w\", encoding=\"utf-8\") as out:\n",
    "    for file in merged_files:\n",
    "        try:\n",
    "            df = pd.read_csv(file, low_memory=False)\n",
    "            out.write(f\"\\n{file.name} - Shape: {df.shape}\\n\")\n",
    "            out.write(\"Columns:\\n\")\n",
    "            out.write(\", \".join(df.columns[:20]))  # First 20 columns\n",
    "            out.write(\"\\n\\nHead:\\n\")\n",
    "            out.write(df.head().to_string(index=False))\n",
    "            out.write(\"\\n\" + \"-\"*80 + \"\\n\")\n",
    "        except Exception as e:\n",
    "            out.write(f\"Failed to load {file.name}: {e}\\n\")\n",
    "\n",
    "print(f\"Scorecard summaries written to: {output_file}\")"
   ]
  },
  {
   "cell_type": "code",
   "execution_count": 12,
   "metadata": {},
   "outputs": [
    {
     "name": "stdout",
     "output_type": "stream",
     "text": [
      "Merged dataset shape: (162482, 3306)\n",
      "Merged Scorecard dataset saved to: data/processed/merged_scorecard.csv\n"
     ]
    }
   ],
   "source": [
    "# Merge all scorecard files into one dataframe\n",
    "def merge_scorecard_files(file_list):\n",
    "    merged_df = pd.DataFrame()\n",
    "    for file in file_list:\n",
    "        try:\n",
    "            df = pd.read_csv(file, low_memory=False)\n",
    "            year = file.stem.replace(\"MERGED\", \"\").replace(\"_PP\", \"\")\n",
    "            df[\"Year\"] = year\n",
    "            merged_df = pd.concat([merged_df, df], ignore_index=True)\n",
    "        except Exception as e:\n",
    "            print(f\"Failed to merge {file.name}: {e}\")\n",
    "    if \"UNITID\" in merged_df.columns:\n",
    "        merged_df = merged_df.sort_values(by=\"UNITID\").reset_index(drop=True)\n",
    "    return merged_df\n",
    "\n",
    "\n",
    "merged_scorecard = merge_scorecard_files(merged_files)\n",
    "print(f\"Merged dataset shape: {merged_scorecard.shape}\")\n",
    "\n",
    "# Saved the merged dataset into the processed directory\n",
    "merged_scorecard.to_csv(\"../data/processed/merged_scorecard.csv\", index=False)\n",
    "print(\"Merged Scorecard dataset saved to: data/processed/merged_scorecard.csv\")"
   ]
  }
 ],
 "metadata": {
  "kernelspec": {
   "display_name": "Python 3",
   "language": "python",
   "name": "python3"
  },
  "language_info": {
   "codemirror_mode": {
    "name": "ipython",
    "version": 3
   },
   "file_extension": ".py",
   "mimetype": "text/x-python",
   "name": "python",
   "nbconvert_exporter": "python",
   "pygments_lexer": "ipython3",
   "version": "3.13.2"
  }
 },
 "nbformat": 4,
 "nbformat_minor": 2
}
